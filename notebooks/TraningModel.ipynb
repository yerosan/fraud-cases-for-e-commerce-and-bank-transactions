{
 "cells": [
  {
   "cell_type": "code",
   "execution_count": 1,
   "metadata": {},
   "outputs": [],
   "source": [
    "import os\n",
    "import sys\n",
    "\n",
    "sys.path.insert(0,os.path.dirname(os.getcwd()))"
   ]
  },
  {
   "cell_type": "code",
   "execution_count": 2,
   "metadata": {},
   "outputs": [],
   "source": [
    "import pandas as pd\n",
    "fraudData=pd.read_csv(\"../Data/featuredData.csv\")"
   ]
  },
  {
   "cell_type": "code",
   "execution_count": 3,
   "metadata": {},
   "outputs": [],
   "source": [
    "from scripts import model_bulding"
   ]
  },
  {
   "cell_type": "code",
   "execution_count": 4,
   "metadata": {},
   "outputs": [
    {
     "data": {
      "text/html": [
       "<div>\n",
       "<style scoped>\n",
       "    .dataframe tbody tr th:only-of-type {\n",
       "        vertical-align: middle;\n",
       "    }\n",
       "\n",
       "    .dataframe tbody tr th {\n",
       "        vertical-align: top;\n",
       "    }\n",
       "\n",
       "    .dataframe thead th {\n",
       "        text-align: right;\n",
       "    }\n",
       "</style>\n",
       "<table border=\"1\" class=\"dataframe\">\n",
       "  <thead>\n",
       "    <tr style=\"text-align: right;\">\n",
       "      <th></th>\n",
       "      <th>Unnamed: 0.1</th>\n",
       "      <th>Unnamed: 0</th>\n",
       "      <th>purchase_value</th>\n",
       "      <th>age</th>\n",
       "      <th>ip_address</th>\n",
       "      <th>class</th>\n",
       "      <th>signup_hour</th>\n",
       "      <th>purchase_hour</th>\n",
       "      <th>signup_day</th>\n",
       "      <th>purchase_day</th>\n",
       "      <th>...</th>\n",
       "      <th>day_of_week</th>\n",
       "      <th>country_encoded</th>\n",
       "      <th>transaction_count</th>\n",
       "      <th>source_Direct</th>\n",
       "      <th>source_SEO</th>\n",
       "      <th>browser_FireFox</th>\n",
       "      <th>browser_IE</th>\n",
       "      <th>browser_Opera</th>\n",
       "      <th>browser_Safari</th>\n",
       "      <th>sex_M</th>\n",
       "    </tr>\n",
       "  </thead>\n",
       "  <tbody>\n",
       "    <tr>\n",
       "      <th>0</th>\n",
       "      <td>0</td>\n",
       "      <td>0</td>\n",
       "      <td>-0.160088</td>\n",
       "      <td>0.681533</td>\n",
       "      <td>732758368</td>\n",
       "      <td>0</td>\n",
       "      <td>22</td>\n",
       "      <td>2</td>\n",
       "      <td>1</td>\n",
       "      <td>5</td>\n",
       "      <td>...</td>\n",
       "      <td>5</td>\n",
       "      <td>0.097865</td>\n",
       "      <td>0.0</td>\n",
       "      <td>False</td>\n",
       "      <td>True</td>\n",
       "      <td>False</td>\n",
       "      <td>False</td>\n",
       "      <td>False</td>\n",
       "      <td>False</td>\n",
       "      <td>True</td>\n",
       "    </tr>\n",
       "    <tr>\n",
       "      <th>1</th>\n",
       "      <td>1</td>\n",
       "      <td>1</td>\n",
       "      <td>-1.142743</td>\n",
       "      <td>2.306556</td>\n",
       "      <td>350311387</td>\n",
       "      <td>0</td>\n",
       "      <td>20</td>\n",
       "      <td>1</td>\n",
       "      <td>6</td>\n",
       "      <td>0</td>\n",
       "      <td>...</td>\n",
       "      <td>0</td>\n",
       "      <td>0.095626</td>\n",
       "      <td>0.0</td>\n",
       "      <td>False</td>\n",
       "      <td>False</td>\n",
       "      <td>False</td>\n",
       "      <td>False</td>\n",
       "      <td>False</td>\n",
       "      <td>False</td>\n",
       "      <td>False</td>\n",
       "    </tr>\n",
       "    <tr>\n",
       "      <th>2</th>\n",
       "      <td>2</td>\n",
       "      <td>2</td>\n",
       "      <td>-1.197335</td>\n",
       "      <td>2.306556</td>\n",
       "      <td>2621473820</td>\n",
       "      <td>1</td>\n",
       "      <td>18</td>\n",
       "      <td>18</td>\n",
       "      <td>3</td>\n",
       "      <td>3</td>\n",
       "      <td>...</td>\n",
       "      <td>3</td>\n",
       "      <td>0.095626</td>\n",
       "      <td>0.0</td>\n",
       "      <td>False</td>\n",
       "      <td>True</td>\n",
       "      <td>False</td>\n",
       "      <td>False</td>\n",
       "      <td>True</td>\n",
       "      <td>False</td>\n",
       "      <td>True</td>\n",
       "    </tr>\n",
       "    <tr>\n",
       "      <th>3</th>\n",
       "      <td>4</td>\n",
       "      <td>4</td>\n",
       "      <td>0.112871</td>\n",
       "      <td>1.377971</td>\n",
       "      <td>415583117</td>\n",
       "      <td>0</td>\n",
       "      <td>7</td>\n",
       "      <td>18</td>\n",
       "      <td>1</td>\n",
       "      <td>2</td>\n",
       "      <td>...</td>\n",
       "      <td>2</td>\n",
       "      <td>0.095626</td>\n",
       "      <td>0.0</td>\n",
       "      <td>False</td>\n",
       "      <td>False</td>\n",
       "      <td>False</td>\n",
       "      <td>False</td>\n",
       "      <td>False</td>\n",
       "      <td>True</td>\n",
       "      <td>True</td>\n",
       "    </tr>\n",
       "    <tr>\n",
       "      <th>4</th>\n",
       "      <td>5</td>\n",
       "      <td>5</td>\n",
       "      <td>0.276647</td>\n",
       "      <td>-1.756001</td>\n",
       "      <td>2809315199</td>\n",
       "      <td>0</td>\n",
       "      <td>6</td>\n",
       "      <td>8</td>\n",
       "      <td>3</td>\n",
       "      <td>3</td>\n",
       "      <td>...</td>\n",
       "      <td>3</td>\n",
       "      <td>0.116975</td>\n",
       "      <td>0.0</td>\n",
       "      <td>False</td>\n",
       "      <td>False</td>\n",
       "      <td>False</td>\n",
       "      <td>False</td>\n",
       "      <td>False</td>\n",
       "      <td>False</td>\n",
       "      <td>True</td>\n",
       "    </tr>\n",
       "  </tbody>\n",
       "</table>\n",
       "<p>5 rows × 21 columns</p>\n",
       "</div>"
      ],
      "text/plain": [
       "   Unnamed: 0.1  Unnamed: 0  purchase_value       age  ip_address  class  \\\n",
       "0             0           0       -0.160088  0.681533   732758368      0   \n",
       "1             1           1       -1.142743  2.306556   350311387      0   \n",
       "2             2           2       -1.197335  2.306556  2621473820      1   \n",
       "3             4           4        0.112871  1.377971   415583117      0   \n",
       "4             5           5        0.276647 -1.756001  2809315199      0   \n",
       "\n",
       "   signup_hour  purchase_hour  signup_day  purchase_day  ...  day_of_week  \\\n",
       "0           22              2           1             5  ...            5   \n",
       "1           20              1           6             0  ...            0   \n",
       "2           18             18           3             3  ...            3   \n",
       "3            7             18           1             2  ...            2   \n",
       "4            6              8           3             3  ...            3   \n",
       "\n",
       "   country_encoded  transaction_count  source_Direct  source_SEO  \\\n",
       "0         0.097865                0.0          False        True   \n",
       "1         0.095626                0.0          False       False   \n",
       "2         0.095626                0.0          False        True   \n",
       "3         0.095626                0.0          False       False   \n",
       "4         0.116975                0.0          False       False   \n",
       "\n",
       "   browser_FireFox  browser_IE  browser_Opera  browser_Safari  sex_M  \n",
       "0            False       False          False           False   True  \n",
       "1            False       False          False           False  False  \n",
       "2            False       False           True           False   True  \n",
       "3            False       False          False            True   True  \n",
       "4            False       False          False           False   True  \n",
       "\n",
       "[5 rows x 21 columns]"
      ]
     },
     "execution_count": 4,
     "metadata": {},
     "output_type": "execute_result"
    }
   ],
   "source": [
    "fraudData.head()"
   ]
  },
  {
   "cell_type": "code",
   "execution_count": 5,
   "metadata": {},
   "outputs": [],
   "source": [
    "model=model_bulding.ModelTrainer(fraudData)"
   ]
  },
  {
   "cell_type": "code",
   "execution_count": 6,
   "metadata": {},
   "outputs": [],
   "source": [
    "X_train,X_test=model.prepare_data()"
   ]
  },
  {
   "cell_type": "code",
   "execution_count": 7,
   "metadata": {},
   "outputs": [],
   "source": [
    "from sklearn.linear_model import LogisticRegression\n",
    "from sklearn.tree import DecisionTreeClassifier\n",
    "from sklearn.ensemble import RandomForestClassifier, GradientBoostingClassifier\n",
    "from sklearn.neural_network import MLPClassifier"
   ]
  },
  {
   "cell_type": "code",
   "execution_count": 9,
   "metadata": {},
   "outputs": [
    {
     "name": "stderr",
     "output_type": "stream",
     "text": [
      "d:\\10Academy\\Week8&9\\week8\\Lib\\site-packages\\sklearn\\metrics\\_classification.py:1531: UndefinedMetricWarning: Precision is ill-defined and being set to 0.0 due to no predicted samples. Use `zero_division` parameter to control this behavior.\n",
      "  _warn_prf(average, modifier, f\"{metric.capitalize()} is\", len(result))\n"
     ]
    },
    {
     "name": "stdout",
     "output_type": "stream",
     "text": [
      "LogisticRegression - Accuracy: 0.9046457607433217, Precision: 0.0, Recall: 0.0, F1: 0.0\n"
     ]
    }
   ],
   "source": [
    "logisticModel=model.train_sklearn_model(LogisticRegression(max_iter=200),)"
   ]
  },
  {
   "cell_type": "code",
   "execution_count": 10,
   "metadata": {},
   "outputs": [
    {
     "name": "stdout",
     "output_type": "stream",
     "text": [
<<<<<<< HEAD
      "DecisionTreeClassifier - Accuracy: 0.8976384049554781, Precision: 0.46984338553815397, Recall: 0.5724725943970768, F1: 0.5161054172767203\n"
=======
      "Model saved as ../models/DecisionTreeClassifier_model.pkl\n",
      "DecisionTreeClassifier - Accuracy: 0.8977158343012002, Precision: 0.47027565592826304, Recall: 0.5749086479902558, F1: 0.5173547679941541\n"
>>>>>>> task4
     ]
    }
   ],
   "source": [
    "DecisionTree=model.train_sklearn_model(DecisionTreeClassifier())"
   ]
  },
  {
   "cell_type": "code",
   "execution_count": 11,
   "metadata": {},
   "outputs": [
    {
     "name": "stdout",
     "output_type": "stream",
     "text": [
      "RandomForestClassifier - Accuracy: 0.9565234223770809, Precision: 0.9977711738484398, Recall: 0.5452699959399107, F1: 0.7051719611446574\n"
     ]
    }
   ],
   "source": [
    "randomForastModel=model.train_sklearn_model(RandomForestClassifier())"
   ]
  },
  {
   "cell_type": "code",
   "execution_count": 12,
   "metadata": {},
   "outputs": [
    {
     "name": "stdout",
     "output_type": "stream",
     "text": [
      "GradientBoostingClassifier - Accuracy: 0.9064266356949284, Precision: 0.96, Recall: 0.0194884287454324, F1: 0.03820135296458416\n"
     ]
    }
   ],
   "source": [
    "gradientBost=model.train_sklearn_model(GradientBoostingClassifier())"
   ]
  },
  {
   "cell_type": "code",
   "execution_count": 13,
   "metadata": {},
   "outputs": [
    {
     "name": "stdout",
     "output_type": "stream",
     "text": [
      "MLPClassifier - Accuracy: 0.9046457607433217, Precision: 0.0, Recall: 0.0, F1: 0.0\n"
     ]
    },
    {
     "name": "stderr",
     "output_type": "stream",
     "text": [
      "d:\\10Academy\\Week8&9\\week8\\Lib\\site-packages\\sklearn\\metrics\\_classification.py:1531: UndefinedMetricWarning: Precision is ill-defined and being set to 0.0 due to no predicted samples. Use `zero_division` parameter to control this behavior.\n",
      "  _warn_prf(average, modifier, f\"{metric.capitalize()} is\", len(result))\n"
     ]
    }
   ],
   "source": [
    "mlp_classifier=model.train_sklearn_model(MLPClassifier(max_iter=300))"
   ]
  },
  {
   "cell_type": "code",
   "execution_count": 14,
   "metadata": {},
   "outputs": [
    {
     "name": "stderr",
     "output_type": "stream",
     "text": [
      "d:\\10Academy\\Week8&9\\week8\\Lib\\site-packages\\keras\\src\\layers\\convolutional\\base_conv.py:107: UserWarning: Do not pass an `input_shape`/`input_dim` argument to a layer. When using Sequential models, prefer using an `Input(shape)` object as the first layer in the model instead.\n",
      "  super().__init__(activity_regularizer=activity_regularizer, **kwargs)\n"
     ]
    },
    {
     "name": "stdout",
     "output_type": "stream",
     "text": [
<<<<<<< HEAD
      "Epoch 1/5\n",
      "\u001b[1m2583/2583\u001b[0m \u001b[32m━━━━━━━━━━━━━━━━━━━━\u001b[0m\u001b[37m\u001b[0m \u001b[1m6s\u001b[0m 2ms/step - accuracy: 0.8941 - loss: 1087573.8750 - val_accuracy: 0.9046 - val_loss: 0.3279\n",
      "Epoch 2/5\n",
      "\u001b[1m2583/2583\u001b[0m \u001b[32m━━━━━━━━━━━━━━━━━━━━\u001b[0m\u001b[37m\u001b[0m \u001b[1m5s\u001b[0m 2ms/step - accuracy: 0.9046 - loss: 0.3208 - val_accuracy: 0.9046 - val_loss: 0.3150\n",
      "Epoch 3/5\n",
      "\u001b[1m2583/2583\u001b[0m \u001b[32m━━━━━━━━━━━━━━━━━━━━\u001b[0m\u001b[37m\u001b[0m \u001b[1m5s\u001b[0m 2ms/step - accuracy: 0.9061 - loss: 0.3115 - val_accuracy: 0.9046 - val_loss: 0.3149\n",
      "Epoch 4/5\n",
      "\u001b[1m2583/2583\u001b[0m \u001b[32m━━━━━━━━━━━━━━━━━━━━\u001b[0m\u001b[37m\u001b[0m \u001b[1m5s\u001b[0m 2ms/step - accuracy: 0.9053 - loss: 0.3133 - val_accuracy: 0.9046 - val_loss: 0.3149\n",
      "Epoch 5/5\n",
      "\u001b[1m2583/2583\u001b[0m \u001b[32m━━━━━━━━━━━━━━━━━━━━\u001b[0m\u001b[37m\u001b[0m \u001b[1m5s\u001b[0m 2ms/step - accuracy: 0.9044 - loss: 0.3153 - val_accuracy: 0.9046 - val_loss: 0.3149\n"
=======
      "\u001b[1m2583/2583\u001b[0m \u001b[32m━━━━━━━━━━━━━━━━━━━━\u001b[0m\u001b[37m\u001b[0m \u001b[1m6s\u001b[0m 2ms/step - accuracy: 0.8929 - loss: 427460.8438 - val_accuracy: 0.9046 - val_loss: 0.3279\n",
      "Epoch 2/5\n",
      "\u001b[1m2583/2583\u001b[0m \u001b[32m━━━━━━━━━━━━━━━━━━━━\u001b[0m\u001b[37m\u001b[0m \u001b[1m4s\u001b[0m 2ms/step - accuracy: 0.9065 - loss: 0.3172 - val_accuracy: 0.9046 - val_loss: 0.3151\n",
      "Epoch 3/5\n",
      "\u001b[1m2583/2583\u001b[0m \u001b[32m━━━━━━━━━━━━━━━━━━━━\u001b[0m\u001b[37m\u001b[0m \u001b[1m4s\u001b[0m 2ms/step - accuracy: 0.9038 - loss: 0.3166 - val_accuracy: 0.9046 - val_loss: 0.3149\n",
      "Epoch 4/5\n",
      "\u001b[1m2583/2583\u001b[0m \u001b[32m━━━━━━━━━━━━━━━━━━━━\u001b[0m\u001b[37m\u001b[0m \u001b[1m4s\u001b[0m 2ms/step - accuracy: 0.9049 - loss: 0.3142 - val_accuracy: 0.9046 - val_loss: 0.3149\n",
      "Epoch 5/5\n",
      "\u001b[1m2583/2583\u001b[0m \u001b[32m━━━━━━━━━━━━━━━━━━━━\u001b[0m\u001b[37m\u001b[0m \u001b[1m5s\u001b[0m 2ms/step - accuracy: 0.9065 - loss: 0.3107 - val_accuracy: 0.9046 - val_loss: 0.3149\n"
>>>>>>> task4
     ]
    }
   ],
   "source": [
    "model.train_neural_network()"
   ]
  },
  {
   "cell_type": "code",
   "execution_count": null,
   "metadata": {},
   "outputs": [
    {
     "name": "stderr",
     "output_type": "stream",
     "text": [
      "d:\\10Academy\\Week8&9\\week8\\Lib\\site-packages\\sklearn\\metrics\\_classification.py:1531: UndefinedMetricWarning: Precision is ill-defined and being set to 0.0 due to no predicted samples. Use `zero_division` parameter to control this behavior.\n",
      "  _warn_prf(average, modifier, f\"{metric.capitalize()} is\", len(result))\n"
     ]
    },
    {
     "name": "stdout",
     "output_type": "stream",
     "text": [
<<<<<<< HEAD
      "LogisticRegression - Accuracy: 0.9046457607433217, Precision: 0.0, Recall: 0.0, F1: 0.0\n",
      "DecisionTreeClassifier - Accuracy: 0.8983352690669764, Precision: 0.4727515880976262, Recall: 0.5740966301258628, F1: 0.5185185185185185\n",
      "RandomForestClassifier - Accuracy: 0.9563685636856368, Precision: 0.9962852897473997, Recall: 0.5444579780755177, F1: 0.7041218167498031\n",
      "GradientBoostingClassifier - Accuracy: 0.9064266356949284, Precision: 0.96, Recall: 0.0194884287454324, F1: 0.03820135296458416\n"
=======
      "Model saved as ../models/DecisionTreeClassifier_model.pkl\n",
      "DecisionTreeClassifier - Accuracy: 0.8983352690669764, Precision: 0.47280613947280614, Recall: 0.5753146569224523, F1: 0.5190476190476191\n",
      "Model saved as ../models/RandomForestClassifier_model.pkl\n",
      "RandomForestClassifier - Accuracy: 0.9564072783584979, Precision: 0.9970260223048327, Recall: 0.5444579780755177, F1: 0.7043067226890757\n",
      "Model saved as ../models/GradientBoostingClassifier_model.pkl\n",
      "GradientBoostingClassifier - Accuracy: 0.9064266356949284, Precision: 0.96, Recall: 0.0194884287454324, F1: 0.03820135296458416\n",
      "Model saved as ../models/MLPClassifier_model.pkl\n",
      "MLPClassifier - Accuracy: 0.9046457607433217, Precision: 0.0, Recall: 0.0, F1: 0.0\n",
      "Epoch 1/5\n"
     ]
    },
    {
     "name": "stderr",
     "output_type": "stream",
     "text": [
      "d:\\10Academy\\Week8&9\\week8\\Lib\\site-packages\\sklearn\\metrics\\_classification.py:1531: UndefinedMetricWarning: Precision is ill-defined and being set to 0.0 due to no predicted samples. Use `zero_division` parameter to control this behavior.\n",
      "  _warn_prf(average, modifier, f\"{metric.capitalize()} is\", len(result))\n",
      "d:\\10Academy\\Week8&9\\week8\\Lib\\site-packages\\keras\\src\\layers\\convolutional\\base_conv.py:107: UserWarning: Do not pass an `input_shape`/`input_dim` argument to a layer. When using Sequential models, prefer using an `Input(shape)` object as the first layer in the model instead.\n",
      "  super().__init__(activity_regularizer=activity_regularizer, **kwargs)\n"
     ]
    },
    {
     "name": "stdout",
     "output_type": "stream",
     "text": [
      "\u001b[1m2583/2583\u001b[0m \u001b[32m━━━━━━━━━━━━━━━━━━━━\u001b[0m\u001b[37m\u001b[0m \u001b[1m6s\u001b[0m 2ms/step - accuracy: 0.8937 - loss: 627128.6250 - val_accuracy: 0.9046 - val_loss: 0.3290\n",
      "Epoch 2/5\n",
      "\u001b[1m2583/2583\u001b[0m \u001b[32m━━━━━━━━━━━━━━━━━━━━\u001b[0m\u001b[37m\u001b[0m \u001b[1m5s\u001b[0m 2ms/step - accuracy: 0.9045 - loss: 0.3218 - val_accuracy: 0.9046 - val_loss: 0.3150\n",
      "Epoch 3/5\n",
      "\u001b[1m2583/2583\u001b[0m \u001b[32m━━━━━━━━━━━━━━━━━━━━\u001b[0m\u001b[37m\u001b[0m \u001b[1m5s\u001b[0m 2ms/step - accuracy: 0.9055 - loss: 0.3130 - val_accuracy: 0.9046 - val_loss: 0.3149\n",
      "Epoch 4/5\n",
      "\u001b[1m2583/2583\u001b[0m \u001b[32m━━━━━━━━━━━━━━━━━━━━\u001b[0m\u001b[37m\u001b[0m \u001b[1m6s\u001b[0m 2ms/step - accuracy: 0.9053 - loss: 0.3132 - val_accuracy: 0.9046 - val_loss: 0.3150\n",
      "Epoch 5/5\n",
      "\u001b[1m2583/2583\u001b[0m \u001b[32m━━━━━━━━━━━━━━━━━━━━\u001b[0m\u001b[37m\u001b[0m \u001b[1m14s\u001b[0m 5ms/step - accuracy: 0.9061 - loss: 0.3115 - val_accuracy: 0.9046 - val_loss: 0.3149\n"
     ]
    },
    {
     "name": "stderr",
     "output_type": "stream",
     "text": [
      "d:\\10Academy\\Week8&9\\week8\\Lib\\site-packages\\keras\\src\\layers\\rnn\\rnn.py:204: UserWarning: Do not pass an `input_shape`/`input_dim` argument to a layer. When using Sequential models, prefer using an `Input(shape)` object as the first layer in the model instead.\n",
      "  super().__init__(**kwargs)\n"
     ]
    },
    {
     "name": "stdout",
     "output_type": "stream",
     "text": [
      "Epoch 1/5\n",
      "\u001b[1m2583/2583\u001b[0m \u001b[32m━━━━━━━━━━━━━━━━━━━━\u001b[0m\u001b[37m\u001b[0m \u001b[1m25s\u001b[0m 8ms/step - accuracy: 0.9007 - loss: 0.3143 - val_accuracy: 0.9132 - val_loss: 0.2469\n",
      "Epoch 2/5\n",
      "\u001b[1m2583/2583\u001b[0m \u001b[32m━━━━━━━━━━━━━━━━━━━━\u001b[0m\u001b[37m\u001b[0m \u001b[1m20s\u001b[0m 8ms/step - accuracy: 0.9315 - loss: 0.2325 - val_accuracy: 0.9459 - val_loss: 0.2053\n",
      "Epoch 3/5\n",
      "\u001b[1m2583/2583\u001b[0m \u001b[32m━━━━━━━━━━━━━━━━━━━━\u001b[0m\u001b[37m\u001b[0m \u001b[1m7s\u001b[0m 3ms/step - accuracy: 0.9386 - loss: 0.2252 - val_accuracy: 0.9491 - val_loss: 0.1998\n",
      "Epoch 4/5\n",
      "\u001b[1m2583/2583\u001b[0m \u001b[32m━━━━━━━━━━━━━━━━━━━━\u001b[0m\u001b[37m\u001b[0m \u001b[1m7s\u001b[0m 3ms/step - accuracy: 0.9421 - loss: 0.2152 - val_accuracy: 0.9402 - val_loss: 0.2113\n",
      "Epoch 5/5\n",
      "\u001b[1m2583/2583\u001b[0m \u001b[32m━━━━━━━━━━━━━━━━━━━━\u001b[0m\u001b[37m\u001b[0m \u001b[1m7s\u001b[0m 3ms/step - accuracy: 0.9448 - loss: 0.2101 - val_accuracy: 0.9410 - val_loss: 0.2158\n",
      "Epoch 1/5\n"
     ]
    },
    {
     "name": "stderr",
     "output_type": "stream",
     "text": [
      "d:\\10Academy\\Week8&9\\week8\\Lib\\site-packages\\keras\\src\\layers\\rnn\\rnn.py:204: UserWarning: Do not pass an `input_shape`/`input_dim` argument to a layer. When using Sequential models, prefer using an `Input(shape)` object as the first layer in the model instead.\n",
      "  super().__init__(**kwargs)\n"
     ]
    },
    {
     "name": "stdout",
     "output_type": "stream",
     "text": [
      "\u001b[1m2583/2583\u001b[0m \u001b[32m━━━━━━━━━━━━━━━━━━━━\u001b[0m\u001b[37m\u001b[0m \u001b[1m16s\u001b[0m 6ms/step - accuracy: 0.9053 - loss: 0.3307 - val_accuracy: 0.9046 - val_loss: 0.3147\n",
      "Epoch 2/5\n",
      "\u001b[1m2583/2583\u001b[0m \u001b[32m━━━━━━━━━━━━━━━━━━━━\u001b[0m\u001b[37m\u001b[0m \u001b[1m15s\u001b[0m 6ms/step - accuracy: 0.9050 - loss: 0.3196 - val_accuracy: 0.9046 - val_loss: 0.3039\n",
      "Epoch 3/5\n",
      "\u001b[1m2583/2583\u001b[0m \u001b[32m━━━━━━━━━━━━━━━━━━━━\u001b[0m\u001b[37m\u001b[0m \u001b[1m14s\u001b[0m 5ms/step - accuracy: 0.9055 - loss: 0.2933 - val_accuracy: 0.9142 - val_loss: 0.2409\n",
      "Epoch 4/5\n",
      "\u001b[1m2583/2583\u001b[0m \u001b[32m━━━━━━━━━━━━━━━━━━━━\u001b[0m\u001b[37m\u001b[0m \u001b[1m14s\u001b[0m 5ms/step - accuracy: 0.9226 - loss: 0.2382 - val_accuracy: 0.9345 - val_loss: 0.2217\n",
      "Epoch 5/5\n",
      "\u001b[1m2583/2583\u001b[0m \u001b[32m━━━━━━━━━━━━━━━━━━━━\u001b[0m\u001b[37m\u001b[0m \u001b[1m26s\u001b[0m 10ms/step - accuracy: 0.9356 - loss: 0.2216 - val_accuracy: 0.9446 - val_loss: 0.2074\n"
>>>>>>> task4
     ]
    }
   ],
   "source": [
    "model.run_all_models()"
   ]
  },
  {
   "cell_type": "code",
   "execution_count": null,
   "metadata": {},
   "outputs": [
    {
     "name": "stderr",
     "output_type": "stream",
     "text": [
      "d:\\10Academy\\Week8&9\\week8\\Lib\\site-packages\\tqdm\\auto.py:21: TqdmWarning: IProgress not found. Please update jupyter and ipywidgets. See https://ipywidgets.readthedocs.io/en/stable/user_install.html\n",
      "  from .autonotebook import tqdm as notebook_tqdm\n"
     ]
    }
   ],
   "source": [
    "import shap\n",
    "if randomForastModel is None:\n",
    "    raise ValueError(\"Model training failed; randomForestModel is None.\")\n",
    "else:\n",
    "    # Initialize explainer with trained model\n",
    "    explainer = shap.TreeExplainer(randomForastModel)  # Use TreeExplainer for tree-based models\n",
    "    shap_values = explainer.shap_values(X_test)  # X is your feature matrix"
   ]
  },
  {
   "cell_type": "code",
   "execution_count": null,
   "metadata": {},
   "outputs": [],
   "source": [
    "#  Plot summary plot for feature importance\n",
    "shap.summary_plot(shap_values, X_test)"
   ]
  },
  {
   "cell_type": "code",
   "execution_count": 19,
   "metadata": {},
   "outputs": [
    {
<<<<<<< HEAD
     "ename": "TypeError",
     "evalue": "object of type 'NoneType' has no len()",
     "output_type": "error",
     "traceback": [
      "\u001b[1;31m---------------------------------------------------------------------------\u001b[0m",
      "\u001b[1;31mTypeError\u001b[0m                                 Traceback (most recent call last)",
      "Cell \u001b[1;32mIn[19], line 8\u001b[0m\n\u001b[0;32m      2\u001b[0m \u001b[38;5;28;01mimport\u001b[39;00m \u001b[38;5;21;01mnumpy\u001b[39;00m \u001b[38;5;28;01mas\u001b[39;00m \u001b[38;5;21;01mnp\u001b[39;00m\n\u001b[0;32m      4\u001b[0m \u001b[38;5;66;03m# Check that logisticModel is a trained model\u001b[39;00m\n\u001b[0;32m      5\u001b[0m \u001b[38;5;66;03m# Assuming 'X_train' is the feature matrix used for training and 'X' is your new feature matrix\u001b[39;00m\n\u001b[0;32m      6\u001b[0m \n\u001b[0;32m      7\u001b[0m \u001b[38;5;66;03m# Generate a small sample from training data as background data for KernelExplainer\u001b[39;00m\n\u001b[1;32m----> 8\u001b[0m background \u001b[38;5;241m=\u001b[39m \u001b[43mshap\u001b[49m\u001b[38;5;241;43m.\u001b[39;49m\u001b[43msample\u001b[49m\u001b[43m(\u001b[49m\u001b[43mlogisticModel\u001b[49m\u001b[43m,\u001b[49m\u001b[43m \u001b[49m\u001b[38;5;241;43m100\u001b[39;49m\u001b[43m)\u001b[49m  \u001b[38;5;66;03m# Use a small sample for better performance\u001b[39;00m\n\u001b[0;32m     10\u001b[0m \u001b[38;5;66;03m# # Initialize SHAP KernelExplainer for Logistic Regression\u001b[39;00m\n\u001b[0;32m     11\u001b[0m \u001b[38;5;66;03m# explainer = shap.KernelExplainer(logisticModel.predict, background)\u001b[39;00m\n\u001b[0;32m     12\u001b[0m \n\u001b[1;32m   (...)\u001b[0m\n\u001b[0;32m     16\u001b[0m \u001b[38;5;66;03m# # Plot SHAP summary plot for feature importance\u001b[39;00m\n\u001b[0;32m     17\u001b[0m \u001b[38;5;66;03m# shap.summary_plot(shap_values, X)\u001b[39;00m\n",
      "File \u001b[1;32md:\\10Academy\\Week8&9\\week8\\Lib\\site-packages\\shap\\utils\\_general.py:190\u001b[0m, in \u001b[0;36msample\u001b[1;34m(X, nsamples, random_state)\u001b[0m\n\u001b[0;32m    188\u001b[0m     over_count \u001b[38;5;241m=\u001b[39m nsamples \u001b[38;5;241m>\u001b[39m\u001b[38;5;241m=\u001b[39m X\u001b[38;5;241m.\u001b[39mshape[\u001b[38;5;241m0\u001b[39m]\n\u001b[0;32m    189\u001b[0m \u001b[38;5;28;01melse\u001b[39;00m:\n\u001b[1;32m--> 190\u001b[0m     over_count \u001b[38;5;241m=\u001b[39m nsamples \u001b[38;5;241m>\u001b[39m\u001b[38;5;241m=\u001b[39m \u001b[38;5;28;43mlen\u001b[39;49m\u001b[43m(\u001b[49m\u001b[43mX\u001b[49m\u001b[43m)\u001b[49m\n\u001b[0;32m    192\u001b[0m \u001b[38;5;28;01mif\u001b[39;00m over_count:\n\u001b[0;32m    193\u001b[0m     \u001b[38;5;28;01mreturn\u001b[39;00m X\n",
      "\u001b[1;31mTypeError\u001b[0m: object of type 'NoneType' has no len()"
     ]
=======
     "data": {
      "image/png": "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",
      "text/plain": [
       "<Figure size 1150x660 with 2 Axes>"
      ]
     },
     "metadata": {},
     "output_type": "display_data"
>>>>>>> task4
    }
   ],
   "source": [
    "import shap\n",
    "import numpy as np\n",
    "\n",
<<<<<<< HEAD
    "# Check that logisticModel is a trained model\n",
    "# Assuming 'X_train' is the feature matrix used for training and 'X' is your new feature matrix\n",
    "\n",
    "# Generate a small sample from training data as background data for KernelExplainer\n",
    "background = shap.sample(logisticModel, 100)  # Use a small sample for better performance\n",
    "\n",
    "# # Initialize SHAP KernelExplainer for Logistic Regression\n",
    "# explainer = shap.KernelExplainer(logisticModel.predict, background)\n",
    "\n",
    "# # Compute SHAP values for feature matrix X\n",
    "# shap_values = explainer.shap_values(X)\n",
    "\n",
    "# # Plot SHAP summary plot for feature importance\n",
    "# shap.summary_plot(shap_values, X)\n"
=======
    "explainer = LimeTabularExplainer(\n",
    "    sampled_testData.values,\n",
    "    feature_names=sampled_testData.columns,\n",
    "    class_names=['Not Fraud', 'Fraud'],\n",
    "    discretize_continuous=True\n",
    ")"
   ]
  },
  {
   "cell_type": "code",
   "execution_count": 21,
   "metadata": {},
   "outputs": [],
   "source": [
    "X_test.to_csv(\"../Data/test.csv\")"
>>>>>>> task4
   ]
  }
 ],
 "metadata": {
  "kernelspec": {
   "display_name": "week8",
   "language": "python",
   "name": "python3"
  },
  "language_info": {
   "codemirror_mode": {
    "name": "ipython",
    "version": 3
   },
   "file_extension": ".py",
   "mimetype": "text/x-python",
   "name": "python",
   "nbconvert_exporter": "python",
   "pygments_lexer": "ipython3",
   "version": "3.12.7"
  }
 },
 "nbformat": 4,
 "nbformat_minor": 2
}
