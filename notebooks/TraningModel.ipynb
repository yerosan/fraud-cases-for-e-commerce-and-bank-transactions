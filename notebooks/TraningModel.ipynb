{
 "cells": [
  {
   "cell_type": "code",
   "execution_count": 1,
   "metadata": {},
   "outputs": [],
   "source": [
    "import os\n",
    "import sys\n",
    "\n",
    "sys.path.insert(0,os.path.dirname(os.getcwd()))"
   ]
  },
  {
   "cell_type": "code",
   "execution_count": 2,
   "metadata": {},
   "outputs": [],
   "source": [
    "import pandas as pd\n",
    "fraudData=pd.read_csv(\"../Data/featuredData.csv\")"
   ]
  },
  {
   "cell_type": "code",
   "execution_count": 3,
   "metadata": {},
   "outputs": [],
   "source": [
    "from scripts import model_bulding"
   ]
  },
  {
   "cell_type": "code",
   "execution_count": 4,
   "metadata": {},
   "outputs": [
    {
     "data": {
      "text/html": [
       "<div>\n",
       "<style scoped>\n",
       "    .dataframe tbody tr th:only-of-type {\n",
       "        vertical-align: middle;\n",
       "    }\n",
       "\n",
       "    .dataframe tbody tr th {\n",
       "        vertical-align: top;\n",
       "    }\n",
       "\n",
       "    .dataframe thead th {\n",
       "        text-align: right;\n",
       "    }\n",
       "</style>\n",
       "<table border=\"1\" class=\"dataframe\">\n",
       "  <thead>\n",
       "    <tr style=\"text-align: right;\">\n",
       "      <th></th>\n",
       "      <th>Unnamed: 0.1</th>\n",
       "      <th>Unnamed: 0</th>\n",
       "      <th>purchase_value</th>\n",
       "      <th>age</th>\n",
       "      <th>ip_address</th>\n",
       "      <th>class</th>\n",
       "      <th>signup_hour</th>\n",
       "      <th>purchase_hour</th>\n",
       "      <th>signup_day</th>\n",
       "      <th>purchase_day</th>\n",
       "      <th>...</th>\n",
       "      <th>day_of_week</th>\n",
       "      <th>country_encoded</th>\n",
       "      <th>transaction_count</th>\n",
       "      <th>source_Direct</th>\n",
       "      <th>source_SEO</th>\n",
       "      <th>browser_FireFox</th>\n",
       "      <th>browser_IE</th>\n",
       "      <th>browser_Opera</th>\n",
       "      <th>browser_Safari</th>\n",
       "      <th>sex_M</th>\n",
       "    </tr>\n",
       "  </thead>\n",
       "  <tbody>\n",
       "    <tr>\n",
       "      <th>0</th>\n",
       "      <td>0</td>\n",
       "      <td>0</td>\n",
       "      <td>-0.160088</td>\n",
       "      <td>0.681533</td>\n",
       "      <td>732758368</td>\n",
       "      <td>0</td>\n",
       "      <td>22</td>\n",
       "      <td>2</td>\n",
       "      <td>1</td>\n",
       "      <td>5</td>\n",
       "      <td>...</td>\n",
       "      <td>5</td>\n",
       "      <td>0.097865</td>\n",
       "      <td>0.0</td>\n",
       "      <td>False</td>\n",
       "      <td>True</td>\n",
       "      <td>False</td>\n",
       "      <td>False</td>\n",
       "      <td>False</td>\n",
       "      <td>False</td>\n",
       "      <td>True</td>\n",
       "    </tr>\n",
       "    <tr>\n",
       "      <th>1</th>\n",
       "      <td>1</td>\n",
       "      <td>1</td>\n",
       "      <td>-1.142743</td>\n",
       "      <td>2.306556</td>\n",
       "      <td>350311387</td>\n",
       "      <td>0</td>\n",
       "      <td>20</td>\n",
       "      <td>1</td>\n",
       "      <td>6</td>\n",
       "      <td>0</td>\n",
       "      <td>...</td>\n",
       "      <td>0</td>\n",
       "      <td>0.095626</td>\n",
       "      <td>0.0</td>\n",
       "      <td>False</td>\n",
       "      <td>False</td>\n",
       "      <td>False</td>\n",
       "      <td>False</td>\n",
       "      <td>False</td>\n",
       "      <td>False</td>\n",
       "      <td>False</td>\n",
       "    </tr>\n",
       "    <tr>\n",
       "      <th>2</th>\n",
       "      <td>2</td>\n",
       "      <td>2</td>\n",
       "      <td>-1.197335</td>\n",
       "      <td>2.306556</td>\n",
       "      <td>2621473820</td>\n",
       "      <td>1</td>\n",
       "      <td>18</td>\n",
       "      <td>18</td>\n",
       "      <td>3</td>\n",
       "      <td>3</td>\n",
       "      <td>...</td>\n",
       "      <td>3</td>\n",
       "      <td>0.095626</td>\n",
       "      <td>0.0</td>\n",
       "      <td>False</td>\n",
       "      <td>True</td>\n",
       "      <td>False</td>\n",
       "      <td>False</td>\n",
       "      <td>True</td>\n",
       "      <td>False</td>\n",
       "      <td>True</td>\n",
       "    </tr>\n",
       "    <tr>\n",
       "      <th>3</th>\n",
       "      <td>4</td>\n",
       "      <td>4</td>\n",
       "      <td>0.112871</td>\n",
       "      <td>1.377971</td>\n",
       "      <td>415583117</td>\n",
       "      <td>0</td>\n",
       "      <td>7</td>\n",
       "      <td>18</td>\n",
       "      <td>1</td>\n",
       "      <td>2</td>\n",
       "      <td>...</td>\n",
       "      <td>2</td>\n",
       "      <td>0.095626</td>\n",
       "      <td>0.0</td>\n",
       "      <td>False</td>\n",
       "      <td>False</td>\n",
       "      <td>False</td>\n",
       "      <td>False</td>\n",
       "      <td>False</td>\n",
       "      <td>True</td>\n",
       "      <td>True</td>\n",
       "    </tr>\n",
       "    <tr>\n",
       "      <th>4</th>\n",
       "      <td>5</td>\n",
       "      <td>5</td>\n",
       "      <td>0.276647</td>\n",
       "      <td>-1.756001</td>\n",
       "      <td>2809315199</td>\n",
       "      <td>0</td>\n",
       "      <td>6</td>\n",
       "      <td>8</td>\n",
       "      <td>3</td>\n",
       "      <td>3</td>\n",
       "      <td>...</td>\n",
       "      <td>3</td>\n",
       "      <td>0.116975</td>\n",
       "      <td>0.0</td>\n",
       "      <td>False</td>\n",
       "      <td>False</td>\n",
       "      <td>False</td>\n",
       "      <td>False</td>\n",
       "      <td>False</td>\n",
       "      <td>False</td>\n",
       "      <td>True</td>\n",
       "    </tr>\n",
       "  </tbody>\n",
       "</table>\n",
       "<p>5 rows × 21 columns</p>\n",
       "</div>"
      ],
      "text/plain": [
       "   Unnamed: 0.1  Unnamed: 0  purchase_value       age  ip_address  class  \\\n",
       "0             0           0       -0.160088  0.681533   732758368      0   \n",
       "1             1           1       -1.142743  2.306556   350311387      0   \n",
       "2             2           2       -1.197335  2.306556  2621473820      1   \n",
       "3             4           4        0.112871  1.377971   415583117      0   \n",
       "4             5           5        0.276647 -1.756001  2809315199      0   \n",
       "\n",
       "   signup_hour  purchase_hour  signup_day  purchase_day  ...  day_of_week  \\\n",
       "0           22              2           1             5  ...            5   \n",
       "1           20              1           6             0  ...            0   \n",
       "2           18             18           3             3  ...            3   \n",
       "3            7             18           1             2  ...            2   \n",
       "4            6              8           3             3  ...            3   \n",
       "\n",
       "   country_encoded  transaction_count  source_Direct  source_SEO  \\\n",
       "0         0.097865                0.0          False        True   \n",
       "1         0.095626                0.0          False       False   \n",
       "2         0.095626                0.0          False        True   \n",
       "3         0.095626                0.0          False       False   \n",
       "4         0.116975                0.0          False       False   \n",
       "\n",
       "   browser_FireFox  browser_IE  browser_Opera  browser_Safari  sex_M  \n",
       "0            False       False          False           False   True  \n",
       "1            False       False          False           False  False  \n",
       "2            False       False           True           False   True  \n",
       "3            False       False          False            True   True  \n",
       "4            False       False          False           False   True  \n",
       "\n",
       "[5 rows x 21 columns]"
      ]
     },
     "execution_count": 4,
     "metadata": {},
     "output_type": "execute_result"
    }
   ],
   "source": [
    "fraudData.head()"
   ]
  },
  {
   "cell_type": "code",
   "execution_count": 5,
   "metadata": {},
   "outputs": [],
   "source": [
    "model=model_bulding.ModelTrainer(fraudData)"
   ]
  },
  {
   "cell_type": "code",
   "execution_count": 6,
   "metadata": {},
   "outputs": [],
   "source": [
    "X_train,X_test=model.prepare_data()"
   ]
  },
  {
   "cell_type": "code",
   "execution_count": 7,
   "metadata": {},
   "outputs": [],
   "source": [
    "from sklearn.linear_model import LogisticRegression\n",
    "from sklearn.tree import DecisionTreeClassifier\n",
    "from sklearn.ensemble import RandomForestClassifier, GradientBoostingClassifier\n",
    "from sklearn.neural_network import MLPClassifier"
   ]
  },
  {
   "cell_type": "code",
   "execution_count": 9,
   "metadata": {},
   "outputs": [
    {
     "name": "stderr",
     "output_type": "stream",
     "text": [
      "d:\\10Academy\\Week8&9\\week8\\Lib\\site-packages\\sklearn\\metrics\\_classification.py:1531: UndefinedMetricWarning: Precision is ill-defined and being set to 0.0 due to no predicted samples. Use `zero_division` parameter to control this behavior.\n",
      "  _warn_prf(average, modifier, f\"{metric.capitalize()} is\", len(result))\n"
     ]
    },
    {
     "name": "stdout",
     "output_type": "stream",
     "text": [
      "LogisticRegression - Accuracy: 0.9046457607433217, Precision: 0.0, Recall: 0.0, F1: 0.0\n"
     ]
    }
   ],
   "source": [
    "logisticModel=model.train_sklearn_model(LogisticRegression(max_iter=200),)"
   ]
  },
  {
   "cell_type": "code",
   "execution_count": 10,
   "metadata": {},
   "outputs": [
    {
     "name": "stdout",
     "output_type": "stream",
     "text": [
      "DecisionTreeClassifier - Accuracy: 0.8976384049554781, Precision: 0.46984338553815397, Recall: 0.5724725943970768, F1: 0.5161054172767203\n"
     ]
    }
   ],
   "source": [
    "DecisionTree=model.train_sklearn_model(DecisionTreeClassifier())"
   ]
  },
  {
   "cell_type": "code",
   "execution_count": 11,
   "metadata": {},
   "outputs": [
    {
     "name": "stdout",
     "output_type": "stream",
     "text": [
      "RandomForestClassifier - Accuracy: 0.9565234223770809, Precision: 0.9977711738484398, Recall: 0.5452699959399107, F1: 0.7051719611446574\n"
     ]
    }
   ],
   "source": [
    "randomForastModel=model.train_sklearn_model(RandomForestClassifier())"
   ]
  },
  {
   "cell_type": "code",
   "execution_count": 12,
   "metadata": {},
   "outputs": [
    {
     "name": "stdout",
     "output_type": "stream",
     "text": [
      "GradientBoostingClassifier - Accuracy: 0.9064266356949284, Precision: 0.96, Recall: 0.0194884287454324, F1: 0.03820135296458416\n"
     ]
    }
   ],
   "source": [
    "gradientBost=model.train_sklearn_model(GradientBoostingClassifier())"
   ]
  },
  {
   "cell_type": "code",
   "execution_count": 13,
   "metadata": {},
   "outputs": [
    {
     "name": "stdout",
     "output_type": "stream",
     "text": [
      "MLPClassifier - Accuracy: 0.9046457607433217, Precision: 0.0, Recall: 0.0, F1: 0.0\n"
     ]
    },
    {
     "name": "stderr",
     "output_type": "stream",
     "text": [
      "d:\\10Academy\\Week8&9\\week8\\Lib\\site-packages\\sklearn\\metrics\\_classification.py:1531: UndefinedMetricWarning: Precision is ill-defined and being set to 0.0 due to no predicted samples. Use `zero_division` parameter to control this behavior.\n",
      "  _warn_prf(average, modifier, f\"{metric.capitalize()} is\", len(result))\n"
     ]
    }
   ],
   "source": [
    "mlp_classifier=model.train_sklearn_model(MLPClassifier(max_iter=300))"
   ]
  },
  {
   "cell_type": "code",
   "execution_count": 14,
   "metadata": {},
   "outputs": [
    {
     "name": "stderr",
     "output_type": "stream",
     "text": [
      "d:\\10Academy\\Week8&9\\week8\\Lib\\site-packages\\keras\\src\\layers\\convolutional\\base_conv.py:107: UserWarning: Do not pass an `input_shape`/`input_dim` argument to a layer. When using Sequential models, prefer using an `Input(shape)` object as the first layer in the model instead.\n",
      "  super().__init__(activity_regularizer=activity_regularizer, **kwargs)\n"
     ]
    },
    {
     "name": "stdout",
     "output_type": "stream",
     "text": [
      "Epoch 1/5\n",
      "\u001b[1m2583/2583\u001b[0m \u001b[32m━━━━━━━━━━━━━━━━━━━━\u001b[0m\u001b[37m\u001b[0m \u001b[1m6s\u001b[0m 2ms/step - accuracy: 0.8941 - loss: 1087573.8750 - val_accuracy: 0.9046 - val_loss: 0.3279\n",
      "Epoch 2/5\n",
      "\u001b[1m2583/2583\u001b[0m \u001b[32m━━━━━━━━━━━━━━━━━━━━\u001b[0m\u001b[37m\u001b[0m \u001b[1m5s\u001b[0m 2ms/step - accuracy: 0.9046 - loss: 0.3208 - val_accuracy: 0.9046 - val_loss: 0.3150\n",
      "Epoch 3/5\n",
      "\u001b[1m2583/2583\u001b[0m \u001b[32m━━━━━━━━━━━━━━━━━━━━\u001b[0m\u001b[37m\u001b[0m \u001b[1m5s\u001b[0m 2ms/step - accuracy: 0.9061 - loss: 0.3115 - val_accuracy: 0.9046 - val_loss: 0.3149\n",
      "Epoch 4/5\n",
      "\u001b[1m2583/2583\u001b[0m \u001b[32m━━━━━━━━━━━━━━━━━━━━\u001b[0m\u001b[37m\u001b[0m \u001b[1m5s\u001b[0m 2ms/step - accuracy: 0.9053 - loss: 0.3133 - val_accuracy: 0.9046 - val_loss: 0.3149\n",
      "Epoch 5/5\n",
      "\u001b[1m2583/2583\u001b[0m \u001b[32m━━━━━━━━━━━━━━━━━━━━\u001b[0m\u001b[37m\u001b[0m \u001b[1m5s\u001b[0m 2ms/step - accuracy: 0.9044 - loss: 0.3153 - val_accuracy: 0.9046 - val_loss: 0.3149\n"
     ]
    }
   ],
   "source": [
    "model.train_neural_network()"
   ]
  },
  {
   "cell_type": "code",
   "execution_count": null,
   "metadata": {},
   "outputs": [
    {
     "name": "stderr",
     "output_type": "stream",
     "text": [
      "d:\\10Academy\\Week8&9\\week8\\Lib\\site-packages\\sklearn\\metrics\\_classification.py:1531: UndefinedMetricWarning: Precision is ill-defined and being set to 0.0 due to no predicted samples. Use `zero_division` parameter to control this behavior.\n",
      "  _warn_prf(average, modifier, f\"{metric.capitalize()} is\", len(result))\n"
     ]
    },
    {
     "name": "stdout",
     "output_type": "stream",
     "text": [
      "LogisticRegression - Accuracy: 0.9046457607433217, Precision: 0.0, Recall: 0.0, F1: 0.0\n",
      "DecisionTreeClassifier - Accuracy: 0.8983352690669764, Precision: 0.4727515880976262, Recall: 0.5740966301258628, F1: 0.5185185185185185\n",
      "RandomForestClassifier - Accuracy: 0.9563685636856368, Precision: 0.9962852897473997, Recall: 0.5444579780755177, F1: 0.7041218167498031\n",
      "GradientBoostingClassifier - Accuracy: 0.9064266356949284, Precision: 0.96, Recall: 0.0194884287454324, F1: 0.03820135296458416\n"
     ]
    }
   ],
   "source": [
    "model.run_all_models()"
   ]
  },
  {
   "cell_type": "code",
   "execution_count": null,
   "metadata": {},
   "outputs": [
    {
     "name": "stderr",
     "output_type": "stream",
     "text": [
      "d:\\10Academy\\Week8&9\\week8\\Lib\\site-packages\\tqdm\\auto.py:21: TqdmWarning: IProgress not found. Please update jupyter and ipywidgets. See https://ipywidgets.readthedocs.io/en/stable/user_install.html\n",
      "  from .autonotebook import tqdm as notebook_tqdm\n"
     ]
    }
   ],
   "source": [
    "import shap\n",
    "if randomForastModel is None:\n",
    "    raise ValueError(\"Model training failed; randomForestModel is None.\")\n",
    "else:\n",
    "    # Initialize explainer with trained model\n",
    "    explainer = shap.TreeExplainer(randomForastModel)  # Use TreeExplainer for tree-based models\n",
    "    shap_values = explainer.shap_values(X_test)  # X is your feature matrix"
   ]
  },
  {
   "cell_type": "code",
   "execution_count": null,
   "metadata": {},
   "outputs": [],
   "source": [
    "#  Plot summary plot for feature importance\n",
    "shap.summary_plot(shap_values, X_test)"
   ]
  },
  {
   "cell_type": "code",
   "execution_count": 19,
   "metadata": {},
   "outputs": [
    {
     "ename": "TypeError",
     "evalue": "object of type 'NoneType' has no len()",
     "output_type": "error",
     "traceback": [
      "\u001b[1;31m---------------------------------------------------------------------------\u001b[0m",
      "\u001b[1;31mTypeError\u001b[0m                                 Traceback (most recent call last)",
      "Cell \u001b[1;32mIn[19], line 8\u001b[0m\n\u001b[0;32m      2\u001b[0m \u001b[38;5;28;01mimport\u001b[39;00m \u001b[38;5;21;01mnumpy\u001b[39;00m \u001b[38;5;28;01mas\u001b[39;00m \u001b[38;5;21;01mnp\u001b[39;00m\n\u001b[0;32m      4\u001b[0m \u001b[38;5;66;03m# Check that logisticModel is a trained model\u001b[39;00m\n\u001b[0;32m      5\u001b[0m \u001b[38;5;66;03m# Assuming 'X_train' is the feature matrix used for training and 'X' is your new feature matrix\u001b[39;00m\n\u001b[0;32m      6\u001b[0m \n\u001b[0;32m      7\u001b[0m \u001b[38;5;66;03m# Generate a small sample from training data as background data for KernelExplainer\u001b[39;00m\n\u001b[1;32m----> 8\u001b[0m background \u001b[38;5;241m=\u001b[39m \u001b[43mshap\u001b[49m\u001b[38;5;241;43m.\u001b[39;49m\u001b[43msample\u001b[49m\u001b[43m(\u001b[49m\u001b[43mlogisticModel\u001b[49m\u001b[43m,\u001b[49m\u001b[43m \u001b[49m\u001b[38;5;241;43m100\u001b[39;49m\u001b[43m)\u001b[49m  \u001b[38;5;66;03m# Use a small sample for better performance\u001b[39;00m\n\u001b[0;32m     10\u001b[0m \u001b[38;5;66;03m# # Initialize SHAP KernelExplainer for Logistic Regression\u001b[39;00m\n\u001b[0;32m     11\u001b[0m \u001b[38;5;66;03m# explainer = shap.KernelExplainer(logisticModel.predict, background)\u001b[39;00m\n\u001b[0;32m     12\u001b[0m \n\u001b[1;32m   (...)\u001b[0m\n\u001b[0;32m     16\u001b[0m \u001b[38;5;66;03m# # Plot SHAP summary plot for feature importance\u001b[39;00m\n\u001b[0;32m     17\u001b[0m \u001b[38;5;66;03m# shap.summary_plot(shap_values, X)\u001b[39;00m\n",
      "File \u001b[1;32md:\\10Academy\\Week8&9\\week8\\Lib\\site-packages\\shap\\utils\\_general.py:190\u001b[0m, in \u001b[0;36msample\u001b[1;34m(X, nsamples, random_state)\u001b[0m\n\u001b[0;32m    188\u001b[0m     over_count \u001b[38;5;241m=\u001b[39m nsamples \u001b[38;5;241m>\u001b[39m\u001b[38;5;241m=\u001b[39m X\u001b[38;5;241m.\u001b[39mshape[\u001b[38;5;241m0\u001b[39m]\n\u001b[0;32m    189\u001b[0m \u001b[38;5;28;01melse\u001b[39;00m:\n\u001b[1;32m--> 190\u001b[0m     over_count \u001b[38;5;241m=\u001b[39m nsamples \u001b[38;5;241m>\u001b[39m\u001b[38;5;241m=\u001b[39m \u001b[38;5;28;43mlen\u001b[39;49m\u001b[43m(\u001b[49m\u001b[43mX\u001b[49m\u001b[43m)\u001b[49m\n\u001b[0;32m    192\u001b[0m \u001b[38;5;28;01mif\u001b[39;00m over_count:\n\u001b[0;32m    193\u001b[0m     \u001b[38;5;28;01mreturn\u001b[39;00m X\n",
      "\u001b[1;31mTypeError\u001b[0m: object of type 'NoneType' has no len()"
     ]
    }
   ],
   "source": [
    "import shap\n",
    "import numpy as np\n",
    "\n",
    "# Check that logisticModel is a trained model\n",
    "# Assuming 'X_train' is the feature matrix used for training and 'X' is your new feature matrix\n",
    "\n",
    "# Generate a small sample from training data as background data for KernelExplainer\n",
    "background = shap.sample(logisticModel, 100)  # Use a small sample for better performance\n",
    "\n",
    "# # Initialize SHAP KernelExplainer for Logistic Regression\n",
    "# explainer = shap.KernelExplainer(logisticModel.predict, background)\n",
    "\n",
    "# # Compute SHAP values for feature matrix X\n",
    "# shap_values = explainer.shap_values(X)\n",
    "\n",
    "# # Plot SHAP summary plot for feature importance\n",
    "# shap.summary_plot(shap_values, X)\n"
   ]
  }
 ],
 "metadata": {
  "kernelspec": {
   "display_name": "week8",
   "language": "python",
   "name": "python3"
  },
  "language_info": {
   "codemirror_mode": {
    "name": "ipython",
    "version": 3
   },
   "file_extension": ".py",
   "mimetype": "text/x-python",
   "name": "python",
   "nbconvert_exporter": "python",
   "pygments_lexer": "ipython3",
   "version": "3.12.7"
  }
 },
 "nbformat": 4,
 "nbformat_minor": 2
}
